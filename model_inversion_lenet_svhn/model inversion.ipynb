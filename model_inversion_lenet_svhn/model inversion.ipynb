{
 "cells": [
  {
   "cell_type": "code",
   "execution_count": 1,
   "metadata": {
    "colab": {
     "base_uri": "https://localhost:8080/"
    },
    "executionInfo": {
     "elapsed": 7,
     "status": "ok",
     "timestamp": 1640938667238,
     "user": {
      "displayName": "吴岳洲",
      "photoUrl": "https://lh3.googleusercontent.com/a/default-user=s64",
      "userId": "10140082103242733864"
     },
     "user_tz": -480
    },
    "id": "ejtZEBsnJiJ6",
    "outputId": "dc82550d-d26c-4828-8726-30870a84840f"
   },
   "outputs": [
    {
     "name": "stdout",
     "output_type": "stream",
     "text": [
      "/content/drive/MyDrive/model_inversion_lenet_svhn\n"
     ]
    }
   ],
   "source": [
    "cd \"drive/MyDrive/model_inversion_lenet_svhn\""
   ]
  },
  {
   "cell_type": "code",
   "execution_count": 2,
   "metadata": {
    "executionInfo": {
     "elapsed": 6734,
     "status": "ok",
     "timestamp": 1640938687677,
     "user": {
      "displayName": "吴岳洲",
      "photoUrl": "https://lh3.googleusercontent.com/a/default-user=s64",
      "userId": "10140082103242733864"
     },
     "user_tz": -480
    },
    "id": "uMJ6SR9aJnyN"
   },
   "outputs": [],
   "source": [
    "import torch\n",
    "import torch.nn as nn\n",
    "import torch.nn.functional as F\n",
    "\n",
    "def weights_init(m):\n",
    "    classname = m.__class__.__name__\n",
    "    if classname.find('Conv') != -1:\n",
    "        nn.init.normal_(m.weight.data, 0.0, 0.02)\n",
    "    elif classname.find('BatchNorm') != -1:\n",
    "        nn.init.normal_(m.weight.data, 1.0, 0.02)\n",
    "        nn.init.constant_(m.bias.data, 0)\n",
    "\n",
    "class Extractor(nn.Module):\n",
    "\n",
    "    def __init__(self, channel=3):\n",
    "        super(Extractor, self).__init__()\n",
    "        self.extractor = nn.Sequential(\n",
    "            nn.Conv2d(channel, 6, 5),\n",
    "            nn.AvgPool2d(2, 2),\n",
    "            nn.Sigmoid(),\n",
    "            nn.Conv2d(6, 16, 5),\n",
    "            nn.AvgPool2d(2, 2),\n",
    "            nn.Sigmoid(),\n",
    "        )\n",
    "\n",
    "    def forward(self, x):\n",
    "        x = self.extractor(x)\n",
    "        return x\n",
    "\n",
    "    \n",
    "class Classifier(nn.Module):\n",
    "\n",
    "    def __init__(self, num_classes=10):\n",
    "        super(Classifier, self).__init__()\n",
    "        self.classifier = nn.Sequential(\n",
    "            nn.Flatten(),\n",
    "            nn.Linear(16 * 5 * 5, 120),\n",
    "            nn.Sigmoid(),\n",
    "            nn.Linear(120, 84),\n",
    "            nn.Sigmoid(),\n",
    "            nn.Linear(84, num_classes),\n",
    "        )\n",
    "\n",
    "    def forward(self, x):\n",
    "        x = self.classifier(x)\n",
    "        return x\n",
    "\n",
    "\n",
    "class Generator(nn.Module):\n",
    "\n",
    "    def __init__(self):\n",
    "        super(Generator, self).__init__()\n",
    "        self.embedding = nn.Embedding(10, 10)\n",
    "        self.generator = nn.Sequential(\n",
    "            nn.ConvTranspose2d(100 + 10, 512, 2, 1, 0, bias=False),\n",
    "            nn.BatchNorm2d(512),\n",
    "            nn.LeakyReLU(0.2, inplace=True),\n",
    "            nn.ConvTranspose2d(512, 256, 2, 1, 0, bias=False),\n",
    "            nn.BatchNorm2d(256),\n",
    "            nn.LeakyReLU(0.2, inplace=True),\n",
    "            nn.ConvTranspose2d(256, 128, 2, 1, 0, bias=False),\n",
    "            nn.BatchNorm2d(128),\n",
    "            nn.LeakyReLU(0.2, inplace=True),\n",
    "            nn.ConvTranspose2d(128, 16, 2, 1, 0, bias=False),\n",
    "            nn.Sigmoid(),\n",
    "        )\n",
    "        self.apply(weights_init)\n",
    "\n",
    "    def forward(self, z, y):\n",
    "        y = self.embedding(y)\n",
    "        y = y.unsqueeze(-1).unsqueeze(-1)\n",
    "        feat = torch.cat([z, y], 1)\n",
    "        feat = self.generator(feat)\n",
    "        return feat\n",
    "\n",
    "    \n",
    "    \n",
    "class Discriminator(nn.Module):\n",
    "\n",
    "    def __init__(self):\n",
    "        super(Discriminator, self).__init__()\n",
    "        self.embedding = nn.Embedding(10, 10)\n",
    "        self.discriminator = nn.Sequential(\n",
    "            nn.Conv2d(16 + 10, 128, 2, 1, 0, bias=False),\n",
    "            nn.BatchNorm2d(128),\n",
    "            nn.LeakyReLU(0.2, inplace=True),\n",
    "            nn.Conv2d(128, 256, 2, 1, 0, bias=False),\n",
    "            nn.BatchNorm2d(256),\n",
    "            nn.LeakyReLU(0.2, inplace=True),\n",
    "            nn.Conv2d(256, 512, 2, 1, 0, bias=False),\n",
    "            nn.BatchNorm2d(512),\n",
    "            nn.LeakyReLU(0.2, inplace=True),\n",
    "            nn.Conv2d(512, 1, 2, 1, 0, bias=False),\n",
    "            nn.Sigmoid(),\n",
    "        )\n",
    "        self.apply(weights_init)\n",
    "\n",
    "    def forward(self, feat, y):\n",
    "        y = self.embedding(y)\n",
    "        y = y.unsqueeze(-1).unsqueeze(-1)\n",
    "        y = y.expand(y.size(0), 10, 5, 5)\n",
    "        feat = torch.cat([feat, y], 1)\n",
    "        feat = self.discriminator(feat)\n",
    "        feat = feat.squeeze(-1).squeeze(-1)\n",
    "        return feat"
   ]
  },
  {
   "cell_type": "code",
   "execution_count": 3,
   "metadata": {
    "colab": {
     "base_uri": "https://localhost:8080/"
    },
    "executionInfo": {
     "elapsed": 18261,
     "status": "ok",
     "timestamp": 1640938708319,
     "user": {
      "displayName": "吴岳洲",
      "photoUrl": "https://lh3.googleusercontent.com/a/default-user=s64",
      "userId": "10140082103242733864"
     },
     "user_tz": -480
    },
    "id": "bk6U2pBHJppL",
    "outputId": "9b3bd22e-236b-4ae9-e2b1-77df11bc2181"
   },
   "outputs": [
    {
     "name": "stdout",
     "output_type": "stream",
     "text": [
      "Using downloaded and verified file: ./data/train_32x32.mat\n",
      "Using downloaded and verified file: ./data/test_32x32.mat\n"
     ]
    }
   ],
   "source": [
    "from torch.utils.data import Dataset, DataLoader, Subset\n",
    "from torchvision import transforms\n",
    "import torchvision.datasets as datasets\n",
    "import numpy as np\n",
    "\n",
    "svhn_transform = transforms.Compose([\n",
    "    transforms.Resize([32, 32]),\n",
    "    transforms.ToTensor(),\n",
    "    transforms.Normalize(mean=[0.5, 0.5, 0.5], std=[0.5, 0.5, 0.5]),\n",
    "])\n",
    "mnist_transform = transforms.Compose([\n",
    "    transforms.Resize([32, 32]),\n",
    "    transforms.ToTensor(),\n",
    "    transforms.Normalize((0.5), (0.5)),\n",
    "])\n",
    "\n",
    "svhn_trainset = datasets.SVHN(root='./data', split='train', download=True, transform=svhn_transform)\n",
    "svhn_testset = datasets.SVHN(root='./data', split='test', download=True, transform=svhn_transform)\n",
    "mnist_trainset = datasets.MNIST(root='./data', train=True, download=True, transform=mnist_transform)\n",
    "mnist_testset = datasets.MNIST(root='./data', train=False, download=True, transform=mnist_transform)\n",
    "\n",
    "size = len(svhn_trainset)\n",
    "index = np.arange(size)\n",
    "client_trainset = Subset(svhn_trainset, index[:2000])\n",
    "server_iid_trainset = Subset(svhn_trainset, index[2000:4000])\n",
    "server_niid_trainset = Subset(mnist_trainset, index[:2000])\n",
    "\n",
    "client_trainloader = DataLoader(client_trainset, batch_size=1, shuffle=False, num_workers=0, pin_memory=True)\n",
    "server_iid_trainloader = DataLoader(server_iid_trainset, batch_size=1, shuffle=False, num_workers=0, pin_memory=True)\n",
    "server_niid_trainloader = DataLoader(server_niid_trainset, batch_size=1, shuffle=False, num_workers=0, pin_memory=True)"
   ]
  },
  {
   "cell_type": "code",
   "execution_count": 4,
   "metadata": {
    "executionInfo": {
     "elapsed": 3,
     "status": "ok",
     "timestamp": 1640938709868,
     "user": {
      "displayName": "吴岳洲",
      "photoUrl": "https://lh3.googleusercontent.com/a/default-user=s64",
      "userId": "10140082103242733864"
     },
     "user_tz": -480
    },
    "id": "Sxo7cvsjJtc4"
   },
   "outputs": [],
   "source": [
    "import matplotlib.pyplot as plt  \n",
    "\n",
    "def get_params(net, modules):\n",
    "    params = []\n",
    "    for module in modules:\n",
    "        params.append({\"params\": net[module].parameters()})\n",
    "    return params\n",
    "\n",
    "def frozen_net(net, modules, frozen):\n",
    "    for module in modules:\n",
    "        for param in net[module].parameters():\n",
    "            param.requires_grad = not frozen\n",
    "        if frozen:\n",
    "            net[module].eval()\n",
    "        else:\n",
    "            net[module].train()\n",
    "\n",
    "def total_variation_loss(image):\n",
    "    bs, c, h, w = image.size()\n",
    "    tv_h = torch.pow(image[:,:,1:,:] - image[:,:,:-1,:], 2).sum()\n",
    "    tv_w = torch.pow(image[:,:,:,1:] - image[:,:,:,:-1], 2).sum()\n",
    "    return (tv_h + tv_w) / (bs * c * h * w)\n",
    "\n",
    "\n",
    "def bound_limit(image):\n",
    "    loss = torch.pow(image - torch.clamp(image, -1, 1), 2).sum()\n",
    "    return loss\n",
    "\n",
    "def priori_mean_loss(image, channel_means):\n",
    "    loss = 0\n",
    "    for i in range(3):\n",
    "        loss += torch.pow(torch.mean(image[:,i,:,:]) - channel_means[i], 2)\n",
    "    return loss\n",
    "\n",
    "def priori_std_loss(image, channel_stds):\n",
    "    loss = 0\n",
    "    for i in range(3):\n",
    "        loss += torch.pow(torch.std(image[:,i,:,:]) - channel_stds[i], 2)\n",
    "    return loss\n",
    "\n",
    "def channel_info(image):\n",
    "    image_ = image[0]\n",
    "    image_ = image_.cpu().detach().numpy() \n",
    "    for i in range(3):\n",
    "        channel = image_[i]\n",
    "        print(\"[channel:%2d] min:%2.6f, max:%2.6f, mean:%2.6f, std:%2.6f\"%(i, np.min(channel), np.max(channel), np.mean(channel), np.std(channel)))\n",
    "\n",
    "\n",
    "def show_image(image):\n",
    "    image_ = image[0]  # [bs, 3, 32, 32] -> [3, 32， 32]\n",
    "    image_ = image_.permute(1, 2, 0)\n",
    "    image_ = image_.cpu().detach().numpy()\n",
    "    image_ = (image_+1)/2  # [-1,1] -> [0,1]\n",
    "    plt.imshow(image_)\n",
    "\n",
    "\n",
    "def cal_psnr(real_image, inversion_image):\n",
    "    mse = ((real_image - inversion_image) ** 2).mean()\n",
    "    mse = mse.cpu().detach().numpy()\n",
    "    psnr = 10 * np.log10(4/mse)\n",
    "    return psnr"
   ]
  },
  {
   "cell_type": "code",
   "execution_count": 5,
   "metadata": {
    "colab": {
     "base_uri": "https://localhost:8080/",
     "height": 335
    },
    "executionInfo": {
     "elapsed": 1656,
     "status": "ok",
     "timestamp": 1640938715188,
     "user": {
      "displayName": "吴岳洲",
      "photoUrl": "https://lh3.googleusercontent.com/a/default-user=s64",
      "userId": "10140082103242733864"
     },
     "user_tz": -480
    },
    "id": "_wwbAELrJ38r",
    "outputId": "51aeec23-b5b2-4533-c6e1-675306a2b6e5"
   },
   "outputs": [
    {
     "name": "stdout",
     "output_type": "stream",
     "text": [
      "[channel: 0] min:-0.921569, max:0.992157, mean:0.118873, std:0.590455\n",
      "[channel: 1] min:-0.490196, max:1.000000, mean:0.481587, std:0.394913\n",
      "[channel: 2] min:0.152941, max:1.000000, mean:0.836290, std:0.156552\n",
      "[label]  3\n"
     ]
    },
    {
     "data": {
      "image/png": "[encoded data removed]",
      "text/plain": [
       "<Figure size 432x288 with 1 Axes>"
      ]
     },
     "metadata": {
      "needs_background": "light"
     },
     "output_type": "display_data"
    }
   ],
   "source": [
    "net = nn.ModuleDict()\n",
    "net[\"extractor\"] = Extractor()              \n",
    "frozen_net(net, [\"extractor\"], True)\n",
    "\n",
    "E_checkpoint = torch.load(\"./checkpoint/client_extractor.pkl\", map_location=torch.device('cpu'))\n",
    "net[\"extractor\"].load_state_dict(E_checkpoint)\n",
    "\n",
    "iteration = iter(client_trainloader)\n",
    "\n",
    "# 图片和标签（全局变量，不要覆盖）\n",
    "for i in range(4):\n",
    "    image, label = next(iteration)\n",
    "\n",
    "\n",
    "# 真实特征（全局变量，不要覆盖）\n",
    "real_feature = net[\"extractor\"](image).detach()\n",
    "\n",
    "channel_info(image)\n",
    "show_image(image)\n",
    "print(\"[label] %2d\"%label.item())"
   ]
  },
  {
   "cell_type": "code",
   "execution_count": 47,
   "metadata": {
    "executionInfo": {
     "elapsed": 451,
     "status": "ok",
     "timestamp": 1640942777306,
     "user": {
      "displayName": "吴岳洲",
      "photoUrl": "https://lh3.googleusercontent.com/a/default-user=s64",
      "userId": "10140082103242733864"
     },
     "user_tz": -480
    },
    "id": "sloMjHVFJ7ru"
   },
   "outputs": [],
   "source": [
    "import torch.optim as optim\n",
    "import copy\n",
    "\n",
    "\n",
    "class AvgMeterDict():\n",
    "\n",
    "    def __init__(self, keys):\n",
    "        self.keys = keys\n",
    "        self.vals = {}\n",
    "        self.ns = {}\n",
    "        self.reset()\n",
    "\n",
    "    def reset(self):\n",
    "        for key in self.keys:\n",
    "            self.vals[key] = 0.\n",
    "            self.ns[key] = 0\n",
    "\n",
    "    def update(self, info):\n",
    "        for key,val in info.items():\n",
    "            self.vals[key] += val.item()\n",
    "            self.ns[key] += 1\n",
    "\n",
    "    def get(self):\n",
    "        res = {}\n",
    "        for key in self.keys:\n",
    "            res[key] = self.vals[key] / self.ns[key]\n",
    "        return res\n",
    "\n",
    "\n",
    "def model_inversion(net, feature, lambda_tv):\n",
    "    # x = torch.normal(0, 0.1, size=(1, 3, 32, 32))\n",
    "    x = torch.zeros((1, 3, 32, 32))\n",
    "    x.requires_grad = True\n",
    "    x_optimizer = optim.Adam(params=[x], lr=1e-5)\n",
    "\n",
    "    meter = AvgMeterDict([\"feature_mse\", \"tv_loss\", \"image_mse\"])\n",
    "    best_epoch, best_metric = -1, 4.\n",
    "    best_x = None\n",
    "    epoch = 0\n",
    "    converge_flag = False\n",
    "\n",
    "    while True:\n",
    "        x_optimizer.zero_grad()\n",
    "\n",
    "        inversion_feature = net[\"extractor\"](x)\n",
    "        feature_mse = torch.pow(feature - inversion_feature, 2).sum()\n",
    "        tv_loss = lambda_tv * total_variation_loss(x)\n",
    "        with torch.no_grad():\n",
    "            image_mse = torch.pow(image - x, 2).mean()\n",
    "\n",
    "        loss = feature_mse + tv_loss\n",
    "        loss.backward()\n",
    "        x_optimizer.step()\n",
    "\n",
    "        meter.update({\"feature_mse\":feature_mse, \"tv_loss\":tv_loss, \"image_mse\":image_mse})\n",
    "\n",
    "        if epoch%1000 == 0:\n",
    "            res = meter.get()\n",
    "            print(\"epoch:%4d, feature_mse:%2.6f, tv_loss:%2.6f, image_mse:%2.6f\"\n",
    "                %(epoch, res[\"feature_mse\"], res[\"tv_loss\"], res[\"image_mse\"]))\n",
    "            \n",
    "            if res[\"image_mse\"] < best_metric:\n",
    "                best_metric = res[\"image_mse\"]\n",
    "                best_epoch = epoch\n",
    "                best_x = copy.deepcopy(x)\n",
    "            elif epoch >= best_epoch + 5000:\n",
    "                converge_flag = True\n",
    "\n",
    "            meter.reset()\n",
    "\n",
    "        if converge_flag:\n",
    "            break\n",
    "        epoch += 1\n",
    "    \n",
    "    # 返回反推的图片\n",
    "    return best_x"
   ]
  },
  {
   "cell_type": "code",
   "execution_count": 49,
   "metadata": {
    "colab": {
     "base_uri": "https://localhost:8080/",
     "height": 1000
    },
    "executionInfo": {
     "elapsed": 158184,
     "status": "ok",
     "timestamp": 1640943002669,
     "user": {
      "displayName": "吴岳洲",
      "photoUrl": "https://lh3.googleusercontent.com/a/default-user=s64",
      "userId": "10140082103242733864"
     },
     "user_tz": -480
    },
    "id": "rCyDMlk1KP7d",
    "outputId": "896faeba-c1b4-4963-9528-df094fa3150b"
   },
   "outputs": [
    {
     "name": "stdout",
     "output_type": "stream",
     "text": [
      "epoch:   0, feature_mse:82.846146, tv_loss:0.000000, image_mse:0.491513\n",
      "epoch:1000, feature_mse:75.398025, tv_loss:0.135773, image_mse:0.489950\n",
      "epoch:2000, feature_mse:62.823704, tv_loss:0.647835, image_mse:0.487219\n",
      "epoch:3000, feature_mse:52.868235, tv_loss:1.312174, image_mse:0.485172\n",
      "epoch:4000, feature_mse:44.706939, tv_loss:2.027063, image_mse:0.483728\n",
      "epoch:5000, feature_mse:37.934918, tv_loss:2.737524, image_mse:0.482760\n",
      "epoch:6000, feature_mse:32.352339, tv_loss:3.408562, image_mse:0.482059\n",
      "epoch:7000, feature_mse:27.787655, tv_loss:4.026965, image_mse:0.481349\n",
      "epoch:8000, feature_mse:24.052482, tv_loss:4.594018, image_mse:0.480335\n",
      "epoch:9000, feature_mse:20.985723, tv_loss:5.111280, image_mse:0.478900\n",
      "epoch:10000, feature_mse:18.481433, tv_loss:5.572821, image_mse:0.477218\n",
      "epoch:11000, feature_mse:16.461552, tv_loss:5.975415, image_mse:0.475581\n",
      "epoch:12000, feature_mse:14.842673, tv_loss:6.324599, image_mse:0.474160\n",
      "epoch:13000, feature_mse:13.536599, tv_loss:6.636123, image_mse:0.472980\n",
      "epoch:14000, feature_mse:12.472892, tv_loss:6.922641, image_mse:0.472067\n",
      "epoch:15000, feature_mse:11.606213, tv_loss:7.181398, image_mse:0.471439\n",
      "epoch:16000, feature_mse:10.905712, tv_loss:7.402730, image_mse:0.471038\n",
      "epoch:17000, feature_mse:10.344919, tv_loss:7.580999, image_mse:0.470663\n",
      "epoch:18000, feature_mse:9.894967, tv_loss:7.719308, image_mse:0.469912\n",
      "epoch:19000, feature_mse:9.522885, tv_loss:7.833225, image_mse:0.468354\n",
      "epoch:20000, feature_mse:9.210043, tv_loss:7.931604, image_mse:0.465893\n",
      "epoch:21000, feature_mse:8.950664, tv_loss:8.012378, image_mse:0.462615\n",
      "epoch:22000, feature_mse:8.740078, tv_loss:8.071899, image_mse:0.458569\n",
      "epoch:23000, feature_mse:8.569761, tv_loss:8.110657, image_mse:0.453765\n",
      "epoch:24000, feature_mse:8.428761, tv_loss:8.132755, image_mse:0.448224\n",
      "epoch:25000, feature_mse:8.308670, tv_loss:8.141462, image_mse:0.442051\n",
      "epoch:26000, feature_mse:8.202347, tv_loss:8.142486, image_mse:0.435657\n",
      "epoch:27000, feature_mse:8.105937, tv_loss:8.140167, image_mse:0.429468\n",
      "epoch:28000, feature_mse:8.018711, tv_loss:8.135139, image_mse:0.423658\n",
      "epoch:29000, feature_mse:7.940428, tv_loss:8.126962, image_mse:0.418243\n",
      "epoch:30000, feature_mse:7.870474, tv_loss:8.115435, image_mse:0.413193\n",
      "epoch:31000, feature_mse:7.807954, tv_loss:8.100708, image_mse:0.408467\n",
      "epoch:32000, feature_mse:7.751864, tv_loss:8.083173, image_mse:0.404027\n",
      "epoch:33000, feature_mse:7.701241, tv_loss:8.063311, image_mse:0.399839\n",
      "epoch:34000, feature_mse:7.655209, tv_loss:8.041634, image_mse:0.395875\n",
      "epoch:35000, feature_mse:7.612845, tv_loss:8.018814, image_mse:0.392111\n",
      "epoch:36000, feature_mse:7.573220, tv_loss:7.995628, image_mse:0.388525\n",
      "epoch:37000, feature_mse:7.535655, tv_loss:7.972667, image_mse:0.385098\n",
      "epoch:38000, feature_mse:7.499776, tv_loss:7.950260, image_mse:0.381817\n",
      "epoch:39000, feature_mse:7.465385, tv_loss:7.928572, image_mse:0.378673\n",
      "epoch:40000, feature_mse:7.432377, tv_loss:7.907696, image_mse:0.375660\n",
      "epoch:41000, feature_mse:7.400681, tv_loss:7.887689, image_mse:0.372773\n",
      "epoch:42000, feature_mse:7.370259, tv_loss:7.868581, image_mse:0.370010\n",
      "epoch:43000, feature_mse:7.341085, tv_loss:7.850392, image_mse:0.367367\n",
      "epoch:44000, feature_mse:7.313139, tv_loss:7.833130, image_mse:0.364841\n",
      "epoch:45000, feature_mse:7.286410, tv_loss:7.816799, image_mse:0.362428\n",
      "epoch:46000, feature_mse:7.260889, tv_loss:7.801395, image_mse:0.360126\n",
      "epoch:47000, feature_mse:7.236568, tv_loss:7.786915, image_mse:0.357930\n",
      "epoch:48000, feature_mse:7.213436, tv_loss:7.773352, image_mse:0.355835\n",
      "epoch:49000, feature_mse:7.191487, tv_loss:7.760695, image_mse:0.353835\n",
      "epoch:50000, feature_mse:7.170713, tv_loss:7.748929, image_mse:0.351923\n",
      "epoch:51000, feature_mse:7.151107, tv_loss:7.738036, image_mse:0.350088\n",
      "epoch:52000, feature_mse:7.132660, tv_loss:7.727993, image_mse:0.348321\n",
      "epoch:53000, feature_mse:7.115365, tv_loss:7.718771, image_mse:0.346606\n",
      "epoch:54000, feature_mse:7.099216, tv_loss:7.710333, image_mse:0.344927\n",
      "epoch:55000, feature_mse:7.084205, tv_loss:7.702635, image_mse:0.343265\n",
      "epoch:56000, feature_mse:7.070326, tv_loss:7.695627, image_mse:0.341599\n",
      "epoch:57000, feature_mse:7.057565, tv_loss:7.689262, image_mse:0.339912\n",
      "epoch:58000, feature_mse:7.045890, tv_loss:7.683509, image_mse:0.338190\n",
      "epoch:59000, feature_mse:7.035255, tv_loss:7.678353, image_mse:0.336430\n",
      "epoch:60000, feature_mse:7.025607, tv_loss:7.673790, image_mse:0.334632\n",
      "epoch:61000, feature_mse:7.016898, tv_loss:7.669811, image_mse:0.332795\n",
      "epoch:62000, feature_mse:7.009095, tv_loss:7.666389, image_mse:0.330907\n",
      "epoch:63000, feature_mse:7.002186, tv_loss:7.663467, image_mse:0.328938\n",
      "epoch:64000, feature_mse:6.996182, tv_loss:7.660944, image_mse:0.326826\n",
      "epoch:65000, feature_mse:6.991147, tv_loss:7.658630, image_mse:0.324447\n",
      "epoch:66000, feature_mse:6.987228, tv_loss:7.656165, image_mse:0.321550\n",
      "epoch:67000, feature_mse:6.984685, tv_loss:7.652957, image_mse:0.317720\n",
      "epoch:68000, feature_mse:6.983609, tv_loss:7.648549, image_mse:0.312708\n",
      "epoch:69000, feature_mse:6.983521, tv_loss:7.643289, image_mse:0.306934\n",
      "epoch:70000, feature_mse:6.983859, tv_loss:7.637797, image_mse:0.300966\n",
      "epoch:71000, feature_mse:6.984397, tv_loss:7.632361, image_mse:0.295053\n",
      "epoch:72000, feature_mse:6.985078, tv_loss:7.627064, image_mse:0.289267\n",
      "epoch:73000, feature_mse:6.985890, tv_loss:7.621926, image_mse:0.283627\n",
      "epoch:74000, feature_mse:6.986828, tv_loss:7.616950, image_mse:0.278139\n",
      "epoch:75000, feature_mse:6.987892, tv_loss:7.612139, image_mse:0.272805\n",
      "epoch:76000, feature_mse:6.989076, tv_loss:7.607492, image_mse:0.267628\n",
      "epoch:77000, feature_mse:6.990381, tv_loss:7.603010, image_mse:0.262608\n",
      "epoch:78000, feature_mse:6.991802, tv_loss:7.598691, image_mse:0.257747\n",
      "epoch:79000, feature_mse:6.993336, tv_loss:7.594535, image_mse:0.253045\n",
      "epoch:80000, feature_mse:6.994980, tv_loss:7.590542, image_mse:0.248506\n",
      "epoch:81000, feature_mse:6.996726, tv_loss:7.586711, image_mse:0.244133\n",
      "epoch:82000, feature_mse:6.998567, tv_loss:7.583048, image_mse:0.239931\n",
      "epoch:83000, feature_mse:7.000492, tv_loss:7.579554, image_mse:0.235908\n",
      "epoch:84000, feature_mse:7.002488, tv_loss:7.576234, image_mse:0.232073\n",
      "epoch:85000, feature_mse:7.004538, tv_loss:7.573097, image_mse:0.228439\n",
      "epoch:86000, feature_mse:7.006611, tv_loss:7.570161, image_mse:0.225029\n",
      "epoch:87000, feature_mse:7.008673, tv_loss:7.567446, image_mse:0.221870\n",
      "epoch:88000, feature_mse:7.010671, tv_loss:7.564984, image_mse:0.219004\n",
      "epoch:89000, feature_mse:7.012531, tv_loss:7.562824, image_mse:0.216492\n",
      "epoch:90000, feature_mse:7.014160, tv_loss:7.561025, image_mse:0.214407\n",
      "epoch:91000, feature_mse:7.015453, tv_loss:7.559654, image_mse:0.212828\n",
      "epoch:92000, feature_mse:7.016345, tv_loss:7.558733, image_mse:0.211782\n",
      "epoch:93000, feature_mse:7.016867, tv_loss:7.558203, image_mse:0.211190\n",
      "epoch:94000, feature_mse:7.017126, tv_loss:7.557942, image_mse:0.210903\n",
      "epoch:95000, feature_mse:7.017240, tv_loss:7.557828, image_mse:0.210779\n",
      "epoch:96000, feature_mse:7.017285, tv_loss:7.557783, image_mse:0.210729\n",
      "epoch:97000, feature_mse:7.017303, tv_loss:7.557765, image_mse:0.210711\n",
      "epoch:98000, feature_mse:7.017309, tv_loss:7.557759, image_mse:0.210704\n",
      "epoch:99000, feature_mse:7.017312, tv_loss:7.557757, image_mse:0.210701\n",
      "epoch:100000, feature_mse:7.017312, tv_loss:7.557756, image_mse:0.210700\n",
      "epoch:101000, feature_mse:7.017313, tv_loss:7.557755, image_mse:0.210700\n",
      "epoch:102000, feature_mse:7.017313, tv_loss:7.557755, image_mse:0.210700\n",
      "epoch:103000, feature_mse:7.017313, tv_loss:7.557755, image_mse:0.210700\n",
      "epoch:104000, feature_mse:7.017313, tv_loss:7.557755, image_mse:0.210700\n",
      "epoch:105000, feature_mse:7.017313, tv_loss:7.557755, image_mse:0.210700\n",
      "epoch:106000, feature_mse:7.017313, tv_loss:7.557755, image_mse:0.210700\n",
      "epoch:107000, feature_mse:7.017313, tv_loss:7.557755, image_mse:0.210700\n",
      "epoch:108000, feature_mse:7.017313, tv_loss:7.557755, image_mse:0.210700\n",
      "epoch:109000, feature_mse:7.017313, tv_loss:7.557755, image_mse:0.210700\n",
      "epoch:110000, feature_mse:7.017313, tv_loss:7.557755, image_mse:0.210700\n",
      "[channel: 0] min:-0.369255, max:-0.099839, mean:-0.242352, std:0.056926\n",
      "[channel: 1] min:0.101812, max:0.508492, mean:0.273229, std:0.111560\n",
      "[channel: 2] min:0.528408, max:0.796100, mean:0.645221, std:0.056186\n",
      "psnr:12.783962\n"
     ]
    },
    {
     "data": {
      "image/png": "[encoded data removed]",
      "text/plain": [
       "<Figure size 432x288 with 1 Axes>"
      ]
     },
     "metadata": {
      "needs_background": "light"
     },
     "output_type": "display_data"
    }
   ],
   "source": [
    "net = nn.ModuleDict()\n",
    "net[\"extractor\"] = Extractor()              \n",
    "frozen_net(net, [\"extractor\"], True)\n",
    "\n",
    "E_checkpoint = torch.load(\"./checkpoint/server_same_extractor.pkl\", map_location=torch.device('cpu'))\n",
    "net[\"extractor\"].load_state_dict(E_checkpoint)\n",
    "\n",
    "x = model_inversion(net, real_feature, 1e4)\n",
    "psnr = cal_psnr(image, x)\n",
    "\n",
    "channel_info(x)\n",
    "print(\"psnr:%2.6f\"%(psnr))\n",
    "show_image(x)"
   ]
  },
  {
   "cell_type": "code",
   "execution_count": 48,
   "metadata": {
    "colab": {
     "base_uri": "https://localhost:8080/",
     "height": 631
    },
    "executionInfo": {
     "elapsed": 23023,
     "status": "ok",
     "timestamp": 1640942807958,
     "user": {
      "displayName": "吴岳洲",
      "photoUrl": "https://lh3.googleusercontent.com/a/default-user=s64",
      "userId": "10140082103242733864"
     },
     "user_tz": -480
    },
    "id": "D70MyjBtFToQ",
    "outputId": "4b7a57e2-0596-40e8-d6ae-e38c5243b956"
   },
   "outputs": [
    {
     "name": "stdout",
     "output_type": "stream",
     "text": [
      "epoch:   0, feature_mse:117.283096, tv_loss:0.000000, image_mse:0.491513\n",
      "epoch:1000, feature_mse:114.178381, tv_loss:0.084499, image_mse:0.491589\n",
      "epoch:2000, feature_mse:108.423128, tv_loss:0.396843, image_mse:0.491126\n",
      "epoch:3000, feature_mse:103.248256, tv_loss:0.820282, image_mse:0.490256\n",
      "epoch:4000, feature_mse:98.595519, tv_loss:1.289861, image_mse:0.489260\n",
      "epoch:5000, feature_mse:94.409371, tv_loss:1.777120, image_mse:0.488252\n",
      "epoch:6000, feature_mse:90.637586, tv_loss:2.271789, image_mse:0.487293\n",
      "epoch:7000, feature_mse:87.237442, tv_loss:2.768922, image_mse:0.486427\n",
      "epoch:8000, feature_mse:84.177664, tv_loss:3.255319, image_mse:0.485689\n",
      "epoch:9000, feature_mse:81.430186, tv_loss:3.715961, image_mse:0.485130\n",
      "epoch:10000, feature_mse:78.971028, tv_loss:4.134340, image_mse:0.484790\n",
      "epoch:11000, feature_mse:76.777305, tv_loss:4.492653, image_mse:0.484651\n",
      "epoch:12000, feature_mse:74.819537, tv_loss:4.782788, image_mse:0.484670\n",
      "epoch:13000, feature_mse:73.065548, tv_loss:5.008974, image_mse:0.484802\n",
      "epoch:14000, feature_mse:71.487341, tv_loss:5.180498, image_mse:0.484986\n",
      "epoch:15000, feature_mse:70.054545, tv_loss:5.317064, image_mse:0.485168\n",
      "epoch:16000, feature_mse:68.743282, tv_loss:5.436412, image_mse:0.485323\n",
      "[channel: 0] min:-0.107331, max:0.105101, mean:0.023123, std:0.068253\n",
      "[channel: 1] min:-0.108157, max:0.096507, mean:-0.020515, std:0.068583\n",
      "[channel: 2] min:-0.006560, max:0.113367, mean:0.097451, std:0.015081\n",
      "psnr:9.166434\n"
     ]
    },
    {
     "data": {
      "image/png": "[encoded data removed]",
      "text/plain": [
       "<Figure size 432x288 with 1 Axes>"
      ]
     },
     "metadata": {
      "needs_background": "light"
     },
     "output_type": "display_data"
    }
   ],
   "source": [
    "\n",
    "\n",
    "net = nn.ModuleDict()\n",
    "net[\"extractor\"] = Extractor()              \n",
    "frozen_net(net, [\"extractor\"], True)\n",
    "\n",
    "E_checkpoint = torch.load(\"./checkpoint/server_iid_extractor.pkl\", map_location=torch.device('cpu'))\n",
    "net[\"extractor\"].load_state_dict(E_checkpoint)\n",
    "\n",
    "x = model_inversion(net, real_feature, 1e4)\n",
    "psnr = cal_psnr(image, x)\n",
    "\n",
    "channel_info(x)\n",
    "image_mse = torch.pow(image - x, 2).mean()\n",
    "print(\"psnr:%2.6f\"%(psnr))\n",
    "show_image(x)"
   ]
  },
  {
   "cell_type": "code",
   "execution_count": 53,
   "metadata": {
    "colab": {
     "base_uri": "https://localhost:8080/",
     "height": 717
    },
    "executionInfo": {
     "elapsed": 30578,
     "status": "ok",
     "timestamp": 1640943198658,
     "user": {
      "displayName": "吴岳洲",
      "photoUrl": "https://lh3.googleusercontent.com/a/default-user=s64",
      "userId": "10140082103242733864"
     },
     "user_tz": -480
    },
    "id": "3RAdmKCgLNc3",
    "outputId": "739c15a0-aa87-4ba2-eae5-c25a9f69ace0"
   },
   "outputs": [
    {
     "name": "stdout",
     "output_type": "stream",
     "text": [
      "epoch:   0, feature_mse:156.095734, tv_loss:0.000000, image_mse:0.491513\n",
      "epoch:1000, feature_mse:155.453582, tv_loss:0.000000, image_mse:0.489937\n",
      "epoch:2000, feature_mse:154.104732, tv_loss:0.000000, image_mse:0.486686\n",
      "epoch:3000, feature_mse:152.637583, tv_loss:0.000000, image_mse:0.483398\n",
      "epoch:4000, feature_mse:151.047180, tv_loss:0.000000, image_mse:0.480259\n",
      "epoch:5000, feature_mse:149.350028, tv_loss:0.000000, image_mse:0.477387\n",
      "epoch:6000, feature_mse:147.570224, tv_loss:0.000000, image_mse:0.474799\n",
      "epoch:7000, feature_mse:145.740948, tv_loss:0.000000, image_mse:0.472528\n",
      "epoch:8000, feature_mse:143.897976, tv_loss:0.000000, image_mse:0.470564\n",
      "epoch:9000, feature_mse:142.071084, tv_loss:0.000000, image_mse:0.468877\n",
      "epoch:10000, feature_mse:140.279113, tv_loss:0.000000, image_mse:0.467426\n",
      "epoch:11000, feature_mse:138.531072, tv_loss:0.000000, image_mse:0.466217\n",
      "epoch:12000, feature_mse:136.832859, tv_loss:0.000000, image_mse:0.465231\n",
      "epoch:13000, feature_mse:135.188652, tv_loss:0.000000, image_mse:0.464434\n",
      "epoch:14000, feature_mse:133.601750, tv_loss:0.000000, image_mse:0.463823\n",
      "epoch:15000, feature_mse:132.075483, tv_loss:0.000000, image_mse:0.463440\n",
      "epoch:16000, feature_mse:130.611339, tv_loss:0.000000, image_mse:0.463280\n",
      "epoch:17000, feature_mse:129.206818, tv_loss:0.000000, image_mse:0.463362\n",
      "epoch:18000, feature_mse:127.857026, tv_loss:0.000000, image_mse:0.463701\n",
      "epoch:19000, feature_mse:126.556184, tv_loss:0.000000, image_mse:0.464301\n",
      "epoch:20000, feature_mse:125.298236, tv_loss:0.000000, image_mse:0.465158\n",
      "epoch:21000, feature_mse:124.079303, tv_loss:0.000000, image_mse:0.466231\n",
      "[channel: 0] min:-0.195595, max:0.202450, mean:0.016071, std:0.144380\n",
      "[channel: 1] min:-0.194027, max:0.197952, mean:0.014331, std:0.144795\n",
      "[channel: 2] min:-0.190351, max:0.193069, mean:0.012774, std:0.144843\n",
      "psnr:9.362175\n"
     ]
    },
    {
     "data": {
      "image/png": "[encoded data removed]",
      "text/plain": [
       "<Figure size 432x288 with 1 Axes>"
      ]
     },
     "metadata": {
      "needs_background": "light"
     },
     "output_type": "display_data"
    }
   ],
   "source": [
    "\n",
    "\n",
    "net = nn.ModuleDict()\n",
    "net[\"extractor\"] = Extractor()              \n",
    "frozen_net(net, [\"extractor\"], True)\n",
    "\n",
    "E_checkpoint = torch.load(\"./checkpoint/server_niid_extractor.pkl\", map_location=torch.device('cpu'))\n",
    "net[\"extractor\"].load_state_dict(E_checkpoint)\n",
    "\n",
    "x = model_inversion(net, real_feature, 0)\n",
    "psnr = cal_psnr(image, x)\n",
    "\n",
    "channel_info(x)\n",
    "image_mse = torch.pow(image - x, 2).mean()\n",
    "print(\"psnr:%2.6f\"%(psnr))\n",
    "show_image(x)"
   ]
  },
  {
   "cell_type": "code",
   "execution_count": 55,
   "metadata": {
    "colab": {
     "base_uri": "https://localhost:8080/",
     "height": 735
    },
    "executionInfo": {
     "elapsed": 31419,
     "status": "ok",
     "timestamp": 1640943284682,
     "user": {
      "displayName": "吴岳洲",
      "photoUrl": "https://lh3.googleusercontent.com/a/default-user=s64",
      "userId": "10140082103242733864"
     },
     "user_tz": -480
    },
    "id": "yOVPMu28Ro2d",
    "outputId": "1bde6bdd-6179-49ff-b02c-81cc02389249"
   },
   "outputs": [
    {
     "name": "stdout",
     "output_type": "stream",
     "text": [
      "epoch:   0, feature_mse:82.576515, tv_loss:0.000000, image_mse:0.491513\n",
      "epoch:1000, feature_mse:82.560478, tv_loss:0.000000, image_mse:0.489826\n",
      "epoch:2000, feature_mse:82.528465, tv_loss:0.000000, image_mse:0.486587\n",
      "epoch:3000, feature_mse:82.496492, tv_loss:0.000000, image_mse:0.483538\n",
      "epoch:4000, feature_mse:82.464556, tv_loss:0.000000, image_mse:0.480678\n",
      "epoch:5000, feature_mse:82.432658, tv_loss:0.000000, image_mse:0.478025\n",
      "epoch:6000, feature_mse:82.400797, tv_loss:0.000000, image_mse:0.475583\n",
      "epoch:7000, feature_mse:82.368973, tv_loss:0.000000, image_mse:0.473353\n",
      "epoch:8000, feature_mse:82.337189, tv_loss:0.000000, image_mse:0.471334\n",
      "epoch:9000, feature_mse:82.305444, tv_loss:0.000000, image_mse:0.469526\n",
      "epoch:10000, feature_mse:82.273740, tv_loss:0.000000, image_mse:0.467928\n",
      "epoch:11000, feature_mse:82.242078, tv_loss:0.000000, image_mse:0.466536\n",
      "epoch:12000, feature_mse:82.210459, tv_loss:0.000000, image_mse:0.465352\n",
      "epoch:13000, feature_mse:82.178884, tv_loss:0.000000, image_mse:0.464373\n",
      "epoch:14000, feature_mse:82.147355, tv_loss:0.000000, image_mse:0.463598\n",
      "epoch:15000, feature_mse:82.115872, tv_loss:0.000000, image_mse:0.463024\n",
      "epoch:16000, feature_mse:82.084437, tv_loss:0.000000, image_mse:0.462649\n",
      "epoch:17000, feature_mse:82.053050, tv_loss:0.000000, image_mse:0.462474\n",
      "epoch:18000, feature_mse:82.021714, tv_loss:0.000000, image_mse:0.462500\n",
      "epoch:19000, feature_mse:81.990429, tv_loss:0.000000, image_mse:0.462726\n",
      "epoch:20000, feature_mse:81.959197, tv_loss:0.000000, image_mse:0.463154\n",
      "epoch:21000, feature_mse:81.928017, tv_loss:0.000000, image_mse:0.463782\n",
      "epoch:22000, feature_mse:81.896891, tv_loss:0.000000, image_mse:0.464608\n",
      "[channel: 0] min:-0.177916, max:0.183071, mean:-0.043969, std:0.163954\n",
      "[channel: 1] min:-0.195318, max:0.174179, mean:0.063377, std:0.156792\n",
      "[channel: 2] min:-0.174613, max:0.172817, mean:0.074729, std:0.151921\n",
      "image_mse:0.462454, psnr:9.369915\n"
     ]
    },
    {
     "data": {
      "image/png": "[encoded data removed]",
      "text/plain": [
       "<Figure size 432x288 with 1 Axes>"
      ]
     },
     "metadata": {
      "needs_background": "light"
     },
     "output_type": "display_data"
    }
   ],
   "source": [
    "\n",
    "\n",
    "net = nn.ModuleDict()\n",
    "net[\"extractor\"] = Extractor()              \n",
    "frozen_net(net, [\"extractor\"], True)\n",
    "\n",
    "\n",
    "x = model_inversion(net, real_feature, 0)\n",
    "psnr = cal_psnr(image, x)\n",
    "\n",
    "channel_info(x)\n",
    "image_mse = torch.pow(image - x, 2).mean()\n",
    "print(\"image_mse:%2.6f, psnr:%2.6f\"%(image_mse, psnr))\n",
    "show_image(x)"
   ]
  },
  {
   "cell_type": "code",
   "execution_count": 57,
   "metadata": {
    "colab": {
     "base_uri": "https://localhost:8080/"
    },
    "executionInfo": {
     "elapsed": 90229,
     "status": "ok",
     "timestamp": 1640943471397,
     "user": {
      "displayName": "吴岳洲",
      "photoUrl": "https://lh3.googleusercontent.com/a/default-user=s64",
      "userId": "10140082103242733864"
     },
     "user_tz": -480
    },
    "id": "LOlSjVmG2H-m",
    "outputId": "dce53e37-c440-41c2-9cbc-74e6c9d9b33c"
   },
   "outputs": [
    {
     "name": "stdout",
     "output_type": "stream",
     "text": [
      "epoch:   0, feature_mse:101.330772\n",
      "epoch:1000, feature_mse:9.673566\n",
      "epoch:2000, feature_mse:4.793662\n",
      "epoch:3000, feature_mse:3.447341\n",
      "epoch:4000, feature_mse:2.888316\n",
      "epoch:5000, feature_mse:2.531535\n",
      "epoch:6000, feature_mse:2.356728\n",
      "epoch:7000, feature_mse:2.255730\n",
      "epoch:8000, feature_mse:2.212637\n",
      "epoch:9000, feature_mse:2.186451\n",
      "epoch:10000, feature_mse:2.146124\n",
      "epoch:11000, feature_mse:2.113484\n",
      "epoch:12000, feature_mse:2.086153\n",
      "epoch:13000, feature_mse:2.074830\n",
      "epoch:14000, feature_mse:2.070419\n",
      "epoch:15000, feature_mse:2.055908\n",
      "epoch:16000, feature_mse:2.046290\n",
      "epoch:17000, feature_mse:2.041591\n",
      "epoch:18000, feature_mse:2.039451\n",
      "epoch:19000, feature_mse:2.035088\n",
      "epoch:20000, feature_mse:2.024851\n",
      "epoch:21000, feature_mse:2.022547\n",
      "epoch:22000, feature_mse:2.022242\n",
      "epoch:23000, feature_mse:2.020879\n",
      "epoch:24000, feature_mse:2.019410\n",
      "epoch:25000, feature_mse:2.017961\n",
      "epoch:26000, feature_mse:2.017372\n",
      "epoch:27000, feature_mse:2.015996\n",
      "epoch:28000, feature_mse:2.013826\n",
      "epoch:29000, feature_mse:2.009619\n",
      "epoch:30000, feature_mse:2.008956\n",
      "epoch:31000, feature_mse:2.008920\n",
      "epoch:32000, feature_mse:2.008886\n",
      "epoch:33000, feature_mse:2.008889\n"
     ]
    }
   ],
   "source": [
    "# z 和 image 配对 (最小化fake feature和real feature的mse)\n",
    "\n",
    "net = nn.ModuleDict()\n",
    "net[\"generator\"] = Generator()            \n",
    "frozen_net(net, [\"generator\"], True)\n",
    "\n",
    "G_checkpoint = torch.load(\"./checkpoint/client_generator.pkl\", map_location=torch.device('cpu'))\n",
    "net[\"generator\"].load_state_dict(G_checkpoint)\n",
    "\n",
    "# 优化z\n",
    "z = torch.zeros((1, 100, 1, 1))\n",
    "z.requires_grad = True\n",
    "z_optimizer = optim.Adam(params=[z], lr=1e-2)\n",
    "\n",
    "feature_mses = []\n",
    "epoch, prev_loss = 0, 10000.\n",
    "converge_flag = False\n",
    "while True:\n",
    "    z_optimizer.zero_grad()\n",
    "    inversion_feature = net[\"generator\"](z, label)\n",
    "    feature_mse = ((real_feature - inversion_feature) ** 2).sum()\n",
    "    feature_mse.backward()\n",
    "    z_optimizer.step()\n",
    "\n",
    "    feature_mses.append(feature_mse.item())\n",
    "\n",
    "    if epoch%1000 == 0:\n",
    "        print(\"epoch:%4d, feature_mse:%2.6f\"%(epoch, np.mean(feature_mses)))\n",
    "        if prev_loss < np.mean(feature_mses):\n",
    "            converge_flag = True\n",
    "        else:\n",
    "            prev_loss = np.mean(feature_mses)\n",
    "        feature_mses = []\n",
    "\n",
    "    if converge_flag:\n",
    "        break\n",
    "    epoch += 1\n",
    "\n",
    "# 最接近真实feature的虚假feature（全局变量，不要覆盖）\n",
    "fake_feature = net[\"generator\"](z, label).detach()"
   ]
  },
  {
   "cell_type": "code",
   "execution_count": 65,
   "metadata": {
    "colab": {
     "base_uri": "https://localhost:8080/",
     "height": 1000
    },
    "executionInfo": {
     "elapsed": 192999,
     "status": "ok",
     "timestamp": 1640950272965,
     "user": {
      "displayName": "吴岳洲",
      "photoUrl": "https://lh3.googleusercontent.com/a/default-user=s64",
      "userId": "10140082103242733864"
     },
     "user_tz": -480
    },
    "id": "oKI37rbX2lb3",
    "outputId": "90d14099-93de-4696-bd3f-05284845d01c"
   },
   "outputs": [
    {
     "name": "stdout",
     "output_type": "stream",
     "text": [
      "epoch:   0, feature_mse:79.563499, tv_loss:0.000000, image_mse:0.491513\n",
      "epoch:1000, feature_mse:72.412491, tv_loss:0.023360, image_mse:0.489911\n",
      "epoch:2000, feature_mse:59.914202, tv_loss:0.133991, image_mse:0.486986\n",
      "epoch:3000, feature_mse:49.743397, tv_loss:0.299232, image_mse:0.484587\n",
      "epoch:4000, feature_mse:41.400815, tv_loss:0.485910, image_mse:0.482704\n",
      "epoch:5000, feature_mse:34.500234, tv_loss:0.675901, image_mse:0.481194\n",
      "epoch:6000, feature_mse:28.759329, tv_loss:0.860887, image_mse:0.479876\n",
      "epoch:7000, feature_mse:23.961883, tv_loss:1.038949, image_mse:0.478598\n",
      "epoch:8000, feature_mse:19.954274, tv_loss:1.208725, image_mse:0.477283\n",
      "epoch:9000, feature_mse:16.660508, tv_loss:1.363278, image_mse:0.475955\n",
      "epoch:10000, feature_mse:14.020741, tv_loss:1.495553, image_mse:0.474669\n",
      "epoch:11000, feature_mse:11.918969, tv_loss:1.607821, image_mse:0.473428\n",
      "epoch:12000, feature_mse:10.219500, tv_loss:1.708023, image_mse:0.472207\n",
      "epoch:13000, feature_mse:8.819939, tv_loss:1.802417, image_mse:0.470943\n",
      "epoch:14000, feature_mse:7.661322, tv_loss:1.890856, image_mse:0.469584\n",
      "epoch:15000, feature_mse:6.709373, tv_loss:1.968579, image_mse:0.468155\n",
      "epoch:16000, feature_mse:5.933583, tv_loss:2.033948, image_mse:0.466745\n",
      "epoch:17000, feature_mse:5.302895, tv_loss:2.089190, image_mse:0.465388\n",
      "epoch:18000, feature_mse:4.789465, tv_loss:2.136486, image_mse:0.464047\n",
      "epoch:19000, feature_mse:4.370355, tv_loss:2.176350, image_mse:0.462665\n",
      "epoch:20000, feature_mse:4.026912, tv_loss:2.208744, image_mse:0.461187\n",
      "epoch:21000, feature_mse:3.743731, tv_loss:2.235081, image_mse:0.459581\n",
      "epoch:22000, feature_mse:3.509239, tv_loss:2.256410, image_mse:0.457851\n",
      "epoch:23000, feature_mse:3.314515, tv_loss:2.272774, image_mse:0.456050\n",
      "epoch:24000, feature_mse:3.151670, tv_loss:2.284783, image_mse:0.454278\n",
      "epoch:25000, feature_mse:3.014126, tv_loss:2.293426, image_mse:0.452574\n",
      "epoch:26000, feature_mse:2.896771, tv_loss:2.299722, image_mse:0.450843\n",
      "epoch:27000, feature_mse:2.795610, tv_loss:2.304541, image_mse:0.448867\n",
      "epoch:28000, feature_mse:2.707294, tv_loss:2.308658, image_mse:0.446406\n",
      "epoch:29000, feature_mse:2.629480, tv_loss:2.312217, image_mse:0.443354\n",
      "epoch:30000, feature_mse:2.560527, tv_loss:2.315128, image_mse:0.439766\n",
      "epoch:31000, feature_mse:2.499291, tv_loss:2.317045, image_mse:0.435701\n",
      "epoch:32000, feature_mse:2.444982, tv_loss:2.317258, image_mse:0.431174\n",
      "epoch:33000, feature_mse:2.396526, tv_loss:2.315579, image_mse:0.426242\n",
      "epoch:34000, feature_mse:2.352519, tv_loss:2.312881, image_mse:0.421071\n",
      "epoch:35000, feature_mse:2.312253, tv_loss:2.309718, image_mse:0.415861\n",
      "epoch:36000, feature_mse:2.275484, tv_loss:2.306121, image_mse:0.410727\n",
      "epoch:37000, feature_mse:2.242013, tv_loss:2.302017, image_mse:0.405722\n",
      "epoch:38000, feature_mse:2.211689, tv_loss:2.297264, image_mse:0.400868\n",
      "epoch:39000, feature_mse:2.184461, tv_loss:2.291594, image_mse:0.396155\n",
      "epoch:40000, feature_mse:2.160240, tv_loss:2.284789, image_mse:0.391560\n",
      "epoch:41000, feature_mse:2.138560, tv_loss:2.277115, image_mse:0.387097\n",
      "epoch:42000, feature_mse:2.118809, tv_loss:2.269089, image_mse:0.382819\n",
      "epoch:43000, feature_mse:2.100663, tv_loss:2.260946, image_mse:0.378760\n",
      "epoch:44000, feature_mse:2.083985, tv_loss:2.252729, image_mse:0.374924\n",
      "epoch:45000, feature_mse:2.068678, tv_loss:2.244443, image_mse:0.371299\n",
      "epoch:46000, feature_mse:2.054663, tv_loss:2.236086, image_mse:0.367872\n",
      "epoch:47000, feature_mse:2.041840, tv_loss:2.227687, image_mse:0.364630\n",
      "epoch:48000, feature_mse:2.030089, tv_loss:2.219308, image_mse:0.361559\n",
      "epoch:49000, feature_mse:2.019284, tv_loss:2.211030, image_mse:0.358647\n",
      "epoch:50000, feature_mse:2.009327, tv_loss:2.202915, image_mse:0.355879\n",
      "epoch:51000, feature_mse:2.000150, tv_loss:2.195000, image_mse:0.353247\n",
      "epoch:52000, feature_mse:1.991692, tv_loss:2.187319, image_mse:0.350741\n",
      "epoch:53000, feature_mse:1.983889, tv_loss:2.179917, image_mse:0.348358\n",
      "epoch:54000, feature_mse:1.976677, tv_loss:2.172840, image_mse:0.346090\n",
      "epoch:55000, feature_mse:1.970007, tv_loss:2.166119, image_mse:0.343933\n",
      "epoch:56000, feature_mse:1.963847, tv_loss:2.159772, image_mse:0.341881\n",
      "epoch:57000, feature_mse:1.958175, tv_loss:2.153804, image_mse:0.339924\n",
      "epoch:58000, feature_mse:1.952971, tv_loss:2.148216, image_mse:0.338052\n",
      "epoch:59000, feature_mse:1.948219, tv_loss:2.143002, image_mse:0.336249\n",
      "epoch:60000, feature_mse:1.943903, tv_loss:2.138153, image_mse:0.334495\n",
      "epoch:61000, feature_mse:1.940009, tv_loss:2.133657, image_mse:0.332765\n",
      "epoch:62000, feature_mse:1.936519, tv_loss:2.129500, image_mse:0.331033\n",
      "epoch:63000, feature_mse:1.933413, tv_loss:2.125675, image_mse:0.329291\n",
      "epoch:64000, feature_mse:1.930659, tv_loss:2.122187, image_mse:0.327547\n",
      "epoch:65000, feature_mse:1.928229, tv_loss:2.119039, image_mse:0.325821\n",
      "epoch:66000, feature_mse:1.926103, tv_loss:2.116227, image_mse:0.324122\n",
      "epoch:67000, feature_mse:1.924269, tv_loss:2.113739, image_mse:0.322443\n",
      "epoch:68000, feature_mse:1.922718, tv_loss:2.111553, image_mse:0.320765\n",
      "epoch:69000, feature_mse:1.921445, tv_loss:2.109640, image_mse:0.319051\n",
      "epoch:70000, feature_mse:1.920441, tv_loss:2.107969, image_mse:0.317248\n",
      "epoch:71000, feature_mse:1.919684, tv_loss:2.106513, image_mse:0.315282\n",
      "epoch:72000, feature_mse:1.919131, tv_loss:2.105260, image_mse:0.313067\n",
      "epoch:73000, feature_mse:1.918735, tv_loss:2.104178, image_mse:0.310429\n",
      "epoch:74000, feature_mse:1.918485, tv_loss:2.103164, image_mse:0.307007\n",
      "epoch:75000, feature_mse:1.918398, tv_loss:2.102045, image_mse:0.302376\n",
      "epoch:76000, feature_mse:1.918429, tv_loss:2.100767, image_mse:0.296677\n",
      "epoch:77000, feature_mse:1.918502, tv_loss:2.099419, image_mse:0.290549\n",
      "epoch:78000, feature_mse:1.918587, tv_loss:2.098058, image_mse:0.284375\n",
      "epoch:79000, feature_mse:1.918679, tv_loss:2.096704, image_mse:0.278280\n",
      "epoch:80000, feature_mse:1.918776, tv_loss:2.095364, image_mse:0.272305\n",
      "epoch:81000, feature_mse:1.918880, tv_loss:2.094040, image_mse:0.266461\n",
      "epoch:82000, feature_mse:1.918989, tv_loss:2.092733, image_mse:0.260753\n",
      "epoch:83000, feature_mse:1.919104, tv_loss:2.091443, image_mse:0.255182\n",
      "epoch:84000, feature_mse:1.919224, tv_loss:2.090171, image_mse:0.249746\n",
      "epoch:85000, feature_mse:1.919350, tv_loss:2.088916, image_mse:0.244445\n",
      "epoch:86000, feature_mse:1.919481, tv_loss:2.087678, image_mse:0.239281\n",
      "epoch:87000, feature_mse:1.919619, tv_loss:2.086456, image_mse:0.234251\n",
      "epoch:88000, feature_mse:1.919762, tv_loss:2.085252, image_mse:0.229356\n",
      "epoch:89000, feature_mse:1.919911, tv_loss:2.084064, image_mse:0.224595\n",
      "epoch:90000, feature_mse:1.920066, tv_loss:2.082894, image_mse:0.219968\n",
      "epoch:91000, feature_mse:1.920225, tv_loss:2.081742, image_mse:0.215474\n",
      "epoch:92000, feature_mse:1.920390, tv_loss:2.080605, image_mse:0.211111\n",
      "epoch:93000, feature_mse:1.920562, tv_loss:2.079485, image_mse:0.206879\n",
      "epoch:94000, feature_mse:1.920739, tv_loss:2.078381, image_mse:0.202779\n",
      "epoch:95000, feature_mse:1.920922, tv_loss:2.077294, image_mse:0.198809\n",
      "epoch:96000, feature_mse:1.921109, tv_loss:2.076224, image_mse:0.194969\n",
      "epoch:97000, feature_mse:1.921302, tv_loss:2.075171, image_mse:0.191257\n",
      "epoch:98000, feature_mse:1.921501, tv_loss:2.074134, image_mse:0.187674\n",
      "epoch:99000, feature_mse:1.921706, tv_loss:2.073112, image_mse:0.184219\n",
      "epoch:100000, feature_mse:1.921915, tv_loss:2.072107, image_mse:0.180891\n",
      "epoch:101000, feature_mse:1.922131, tv_loss:2.071118, image_mse:0.177689\n",
      "epoch:102000, feature_mse:1.922352, tv_loss:2.070145, image_mse:0.174613\n",
      "epoch:103000, feature_mse:1.922578, tv_loss:2.069190, image_mse:0.171664\n",
      "epoch:104000, feature_mse:1.922808, tv_loss:2.068251, image_mse:0.168840\n",
      "epoch:105000, feature_mse:1.923045, tv_loss:2.067327, image_mse:0.166141\n",
      "epoch:106000, feature_mse:1.923287, tv_loss:2.066419, image_mse:0.163565\n",
      "epoch:107000, feature_mse:1.923535, tv_loss:2.065527, image_mse:0.161111\n",
      "epoch:108000, feature_mse:1.923788, tv_loss:2.064650, image_mse:0.158780\n",
      "epoch:109000, feature_mse:1.924046, tv_loss:2.063789, image_mse:0.156571\n",
      "epoch:110000, feature_mse:1.924309, tv_loss:2.062945, image_mse:0.154484\n",
      "epoch:111000, feature_mse:1.924577, tv_loss:2.062117, image_mse:0.152518\n",
      "epoch:112000, feature_mse:1.924850, tv_loss:2.061304, image_mse:0.150671\n",
      "epoch:113000, feature_mse:1.925129, tv_loss:2.060505, image_mse:0.148943\n",
      "epoch:114000, feature_mse:1.925412, tv_loss:2.059724, image_mse:0.147335\n",
      "epoch:115000, feature_mse:1.925701, tv_loss:2.058958, image_mse:0.145844\n",
      "epoch:116000, feature_mse:1.925994, tv_loss:2.058207, image_mse:0.144471\n",
      "epoch:117000, feature_mse:1.926292, tv_loss:2.057472, image_mse:0.143213\n",
      "epoch:118000, feature_mse:1.926595, tv_loss:2.056753, image_mse:0.142071\n",
      "epoch:119000, feature_mse:1.926903, tv_loss:2.056048, image_mse:0.141044\n",
      "epoch:120000, feature_mse:1.927214, tv_loss:2.055360, image_mse:0.140129\n",
      "epoch:121000, feature_mse:1.927531, tv_loss:2.054687, image_mse:0.139328\n",
      "epoch:122000, feature_mse:1.927852, tv_loss:2.054029, image_mse:0.138638\n",
      "epoch:123000, feature_mse:1.928177, tv_loss:2.053387, image_mse:0.138057\n",
      "epoch:124000, feature_mse:1.928505, tv_loss:2.052761, image_mse:0.137586\n",
      "epoch:125000, feature_mse:1.928838, tv_loss:2.052151, image_mse:0.137221\n",
      "epoch:126000, feature_mse:1.929173, tv_loss:2.051556, image_mse:0.136962\n",
      "epoch:127000, feature_mse:1.929512, tv_loss:2.050977, image_mse:0.136807\n",
      "epoch:128000, feature_mse:1.929854, tv_loss:2.050415, image_mse:0.136753\n",
      "epoch:129000, feature_mse:1.930198, tv_loss:2.049869, image_mse:0.136799\n",
      "epoch:130000, feature_mse:1.930543, tv_loss:2.049340, image_mse:0.136940\n",
      "epoch:131000, feature_mse:1.930890, tv_loss:2.048828, image_mse:0.137175\n",
      "epoch:132000, feature_mse:1.931236, tv_loss:2.048333, image_mse:0.137500\n"
     ]
    },
    {
     "name": "stderr",
     "output_type": "stream",
     "text": [
      "Clipping input data to the valid range for imshow with RGB data ([0..1] for floats or [0..255] for integers).\n"
     ]
    },
    {
     "name": "stdout",
     "output_type": "stream",
     "text": [
      "epoch:133000, feature_mse:1.931582, tv_loss:2.047858, image_mse:0.137908\n",
      "[channel: 0] min:-0.148751, max:0.349902, mean:0.058496, std:0.096917\n",
      "[channel: 1] min:0.093499, max:0.785209, mean:0.428931, std:0.178501\n",
      "[channel: 2] min:0.756004, max:1.109162, mean:0.925203, std:0.079373\n",
      "psnr:14.661023\n"
     ]
    },
    {
     "data": {
      "image/png": "[encoded data removed]",
      "text/plain": [
       "<Figure size 432x288 with 1 Axes>"
      ]
     },
     "metadata": {
      "needs_background": "light"
     },
     "output_type": "display_data"
    }
   ],
   "source": [
    "\n",
    "\n",
    "net = nn.ModuleDict()\n",
    "net[\"extractor\"] = Extractor()              \n",
    "frozen_net(net, [\"extractor\"], True)\n",
    "\n",
    "E_checkpoint = torch.load(\"./checkpoint/client_extractor.pkl\", map_location=torch.device('cpu'))\n",
    "net[\"extractor\"].load_state_dict(E_checkpoint)\n",
    "\n",
    "x = model_inversion(net, fake_feature, 1e3)\n",
    "psnr = cal_psnr(image, x)\n",
    "\n",
    "channel_info(x)\n",
    "image_mse = torch.pow(image - x, 2).mean()\n",
    "print(\"psnr:%2.6f\"%(psnr))\n",
    "show_image(x)"
   ]
  },
  {
   "cell_type": "code",
   "execution_count": 68,
   "metadata": {
    "colab": {
     "base_uri": "https://localhost:8080/",
     "height": 1000
    },
    "executionInfo": {
     "elapsed": 169397,
     "status": "ok",
     "timestamp": 1640951056705,
     "user": {
      "displayName": "吴岳洲",
      "photoUrl": "https://lh3.googleusercontent.com/a/default-user=s64",
      "userId": "10140082103242733864"
     },
     "user_tz": -480
    },
    "id": "PRzpXaNJLinS",
    "outputId": "a65ee0c7-2fe2-482b-f192-df5947b15762"
   },
   "outputs": [
    {
     "name": "stdout",
     "output_type": "stream",
     "text": [
      "epoch:   0, feature_mse:81.412674, tv_loss:0.000000, image_mse:0.491513\n",
      "epoch:1000, feature_mse:74.158823, tv_loss:0.133169, image_mse:0.490060\n",
      "epoch:2000, feature_mse:61.941503, tv_loss:0.628471, image_mse:0.487650\n",
      "epoch:3000, feature_mse:52.278532, tv_loss:1.265524, image_mse:0.485879\n",
      "epoch:4000, feature_mse:44.355218, tv_loss:1.949213, image_mse:0.484586\n",
      "epoch:5000, feature_mse:37.783349, tv_loss:2.629687, image_mse:0.483676\n",
      "epoch:6000, feature_mse:32.372611, tv_loss:3.274059, image_mse:0.482975\n",
      "epoch:7000, feature_mse:27.952857, tv_loss:3.869334, image_mse:0.482256\n",
      "epoch:8000, feature_mse:24.338148, tv_loss:4.414863, image_mse:0.481292\n",
      "epoch:9000, feature_mse:21.371610, tv_loss:4.909281, image_mse:0.479991\n",
      "epoch:10000, feature_mse:18.948197, tv_loss:5.348778, image_mse:0.478458\n",
      "epoch:11000, feature_mse:16.990842, tv_loss:5.733518, image_mse:0.476917\n",
      "epoch:12000, feature_mse:15.419811, tv_loss:6.068574, image_mse:0.475534\n",
      "epoch:13000, feature_mse:14.150480, tv_loss:6.367438, image_mse:0.474366\n",
      "epoch:14000, feature_mse:13.113949, tv_loss:6.642070, image_mse:0.473468\n",
      "epoch:15000, feature_mse:12.268114, tv_loss:6.887848, image_mse:0.472872\n",
      "epoch:16000, feature_mse:11.584825, tv_loss:7.093823, image_mse:0.472507\n",
      "epoch:17000, feature_mse:11.035926, tv_loss:7.257734, image_mse:0.472123\n",
      "epoch:18000, feature_mse:10.590767, tv_loss:7.387278, image_mse:0.471258\n",
      "epoch:19000, feature_mse:10.221589, tv_loss:7.493823, image_mse:0.469481\n",
      "epoch:20000, feature_mse:9.911662, tv_loss:7.582715, image_mse:0.466739\n",
      "epoch:21000, feature_mse:9.652011, tv_loss:7.655030, image_mse:0.463241\n",
      "epoch:22000, feature_mse:9.436113, tv_loss:7.710185, image_mse:0.459146\n",
      "epoch:23000, feature_mse:9.255363, tv_loss:7.750214, image_mse:0.454477\n",
      "epoch:24000, feature_mse:9.101160, tv_loss:7.777876, image_mse:0.449187\n",
      "epoch:25000, feature_mse:8.969694, tv_loss:7.791521, image_mse:0.443268\n",
      "epoch:26000, feature_mse:8.855189, tv_loss:7.794444, image_mse:0.437019\n",
      "epoch:27000, feature_mse:8.751550, tv_loss:7.792968, image_mse:0.430886\n",
      "epoch:28000, feature_mse:8.656785, tv_loss:7.789149, image_mse:0.425090\n",
      "epoch:29000, feature_mse:8.570470, tv_loss:7.782858, image_mse:0.419670\n",
      "epoch:30000, feature_mse:8.492186, tv_loss:7.773747, image_mse:0.414601\n",
      "epoch:31000, feature_mse:8.421390, tv_loss:7.761607, image_mse:0.409849\n",
      "epoch:32000, feature_mse:8.357396, tv_loss:7.746463, image_mse:0.405384\n",
      "epoch:33000, feature_mse:8.299404, tv_loss:7.728563, image_mse:0.401176\n",
      "epoch:34000, feature_mse:8.246595, tv_loss:7.708291, image_mse:0.397201\n",
      "epoch:35000, feature_mse:8.198013, tv_loss:7.686283, image_mse:0.393437\n",
      "epoch:36000, feature_mse:8.152579, tv_loss:7.663423, image_mse:0.389860\n",
      "epoch:37000, feature_mse:8.109396, tv_loss:7.640500, image_mse:0.386450\n",
      "epoch:38000, feature_mse:8.067961, tv_loss:7.617961, image_mse:0.383191\n",
      "epoch:39000, feature_mse:8.028024, tv_loss:7.596025, image_mse:0.380073\n",
      "epoch:40000, feature_mse:7.989464, tv_loss:7.574805, image_mse:0.377091\n",
      "epoch:41000, feature_mse:7.952210, tv_loss:7.554363, image_mse:0.374240\n",
      "epoch:42000, feature_mse:7.916230, tv_loss:7.534733, image_mse:0.371516\n",
      "epoch:43000, feature_mse:7.881503, tv_loss:7.515936, image_mse:0.368919\n",
      "epoch:44000, feature_mse:7.848018, tv_loss:7.497981, image_mse:0.366444\n",
      "epoch:45000, feature_mse:7.815775, tv_loss:7.480871, image_mse:0.364091\n",
      "epoch:46000, feature_mse:7.784771, tv_loss:7.464606, image_mse:0.361857\n",
      "epoch:47000, feature_mse:7.755004, tv_loss:7.449188, image_mse:0.359740\n",
      "epoch:48000, feature_mse:7.726474, tv_loss:7.434610, image_mse:0.357738\n",
      "epoch:49000, feature_mse:7.699178, tv_loss:7.420873, image_mse:0.355847\n",
      "epoch:50000, feature_mse:7.673115, tv_loss:7.407967, image_mse:0.354064\n",
      "epoch:51000, feature_mse:7.648277, tv_loss:7.395891, image_mse:0.352386\n",
      "epoch:52000, feature_mse:7.624662, tv_loss:7.384632, image_mse:0.350807\n",
      "epoch:53000, feature_mse:7.602263, tv_loss:7.374183, image_mse:0.349321\n",
      "epoch:54000, feature_mse:7.581073, tv_loss:7.364529, image_mse:0.347922\n",
      "epoch:55000, feature_mse:7.561085, tv_loss:7.355654, image_mse:0.346600\n",
      "epoch:56000, feature_mse:7.542289, tv_loss:7.347535, image_mse:0.345343\n",
      "epoch:57000, feature_mse:7.524678, tv_loss:7.340144, image_mse:0.344137\n",
      "epoch:58000, feature_mse:7.508242, tv_loss:7.333447, image_mse:0.342963\n",
      "epoch:59000, feature_mse:7.492967, tv_loss:7.327407, image_mse:0.341800\n",
      "epoch:60000, feature_mse:7.478833, tv_loss:7.321988, image_mse:0.340625\n",
      "epoch:61000, feature_mse:7.465811, tv_loss:7.317158, image_mse:0.339418\n",
      "epoch:62000, feature_mse:7.453859, tv_loss:7.312898, image_mse:0.338170\n",
      "epoch:63000, feature_mse:7.442929, tv_loss:7.309195, image_mse:0.336874\n",
      "epoch:64000, feature_mse:7.432975, tv_loss:7.306038, image_mse:0.335527\n",
      "epoch:65000, feature_mse:7.423962, tv_loss:7.303400, image_mse:0.334116\n",
      "epoch:66000, feature_mse:7.415873, tv_loss:7.301231, image_mse:0.332614\n",
      "epoch:67000, feature_mse:7.408717, tv_loss:7.299436, image_mse:0.330962\n",
      "epoch:68000, feature_mse:7.402551, tv_loss:7.297845, image_mse:0.329048\n",
      "epoch:69000, feature_mse:7.397520, tv_loss:7.296128, image_mse:0.326643\n",
      "epoch:70000, feature_mse:7.393898, tv_loss:7.293713, image_mse:0.323337\n",
      "epoch:71000, feature_mse:7.391901, tv_loss:7.290007, image_mse:0.318754\n",
      "epoch:72000, feature_mse:7.391146, tv_loss:7.285193, image_mse:0.313178\n",
      "epoch:73000, feature_mse:7.390956, tv_loss:7.279983, image_mse:0.307268\n",
      "epoch:74000, feature_mse:7.390997, tv_loss:7.274779, image_mse:0.301370\n",
      "epoch:75000, feature_mse:7.391181, tv_loss:7.269701, image_mse:0.295590\n",
      "epoch:76000, feature_mse:7.391493, tv_loss:7.264778, image_mse:0.289954\n",
      "epoch:77000, feature_mse:7.391924, tv_loss:7.260017, image_mse:0.284469\n",
      "epoch:78000, feature_mse:7.392475, tv_loss:7.255418, image_mse:0.279138\n",
      "epoch:79000, feature_mse:7.393145, tv_loss:7.250981, image_mse:0.273960\n",
      "epoch:80000, feature_mse:7.393931, tv_loss:7.246706, image_mse:0.268937\n",
      "epoch:81000, feature_mse:7.394834, tv_loss:7.242589, image_mse:0.264067\n",
      "epoch:82000, feature_mse:7.395851, tv_loss:7.238629, image_mse:0.259351\n",
      "epoch:83000, feature_mse:7.396980, tv_loss:7.234827, image_mse:0.254790\n",
      "epoch:84000, feature_mse:7.398220, tv_loss:7.231178, image_mse:0.250385\n",
      "epoch:85000, feature_mse:7.399563, tv_loss:7.227684, image_mse:0.246139\n",
      "epoch:86000, feature_mse:7.401009, tv_loss:7.224344, image_mse:0.242054\n",
      "epoch:87000, feature_mse:7.402549, tv_loss:7.221158, image_mse:0.238135\n",
      "epoch:88000, feature_mse:7.404172, tv_loss:7.218133, image_mse:0.234393\n",
      "epoch:89000, feature_mse:7.405864, tv_loss:7.215271, image_mse:0.230836\n",
      "epoch:90000, feature_mse:7.407608, tv_loss:7.212583, image_mse:0.227480\n",
      "epoch:91000, feature_mse:7.409375, tv_loss:7.210082, image_mse:0.224349\n",
      "epoch:92000, feature_mse:7.411127, tv_loss:7.207792, image_mse:0.221477\n",
      "epoch:93000, feature_mse:7.412807, tv_loss:7.205745, image_mse:0.218913\n",
      "epoch:94000, feature_mse:7.414341, tv_loss:7.203991, image_mse:0.216723\n",
      "epoch:95000, feature_mse:7.415636, tv_loss:7.202582, image_mse:0.214982\n",
      "epoch:96000, feature_mse:7.416608, tv_loss:7.201564, image_mse:0.213745\n",
      "epoch:97000, feature_mse:7.417231, tv_loss:7.200925, image_mse:0.212986\n",
      "epoch:98000, feature_mse:7.417571, tv_loss:7.200582, image_mse:0.212589\n",
      "epoch:99000, feature_mse:7.417731, tv_loss:7.200421, image_mse:0.212406\n",
      "epoch:100000, feature_mse:7.417799, tv_loss:7.200353, image_mse:0.212329\n",
      "epoch:101000, feature_mse:7.417826, tv_loss:7.200326, image_mse:0.212299\n",
      "epoch:102000, feature_mse:7.417836, tv_loss:7.200316, image_mse:0.212287\n",
      "epoch:103000, feature_mse:7.417840, tv_loss:7.200311, image_mse:0.212283\n",
      "epoch:104000, feature_mse:7.417842, tv_loss:7.200310, image_mse:0.212281\n",
      "epoch:105000, feature_mse:7.417842, tv_loss:7.200309, image_mse:0.212280\n",
      "epoch:106000, feature_mse:7.417843, tv_loss:7.200309, image_mse:0.212280\n",
      "epoch:107000, feature_mse:7.417843, tv_loss:7.200309, image_mse:0.212280\n",
      "epoch:108000, feature_mse:7.417843, tv_loss:7.200309, image_mse:0.212280\n",
      "epoch:109000, feature_mse:7.417843, tv_loss:7.200309, image_mse:0.212280\n",
      "epoch:110000, feature_mse:7.417843, tv_loss:7.200309, image_mse:0.212280\n",
      "epoch:111000, feature_mse:7.417843, tv_loss:7.200309, image_mse:0.212280\n",
      "epoch:112000, feature_mse:7.417843, tv_loss:7.200309, image_mse:0.212280\n",
      "epoch:113000, feature_mse:7.417843, tv_loss:7.200309, image_mse:0.212280\n",
      "epoch:114000, feature_mse:7.417843, tv_loss:7.200309, image_mse:0.212280\n",
      "epoch:115000, feature_mse:7.417843, tv_loss:7.200309, image_mse:0.212280\n",
      "epoch:116000, feature_mse:7.417843, tv_loss:7.200309, image_mse:0.212280\n",
      "epoch:117000, feature_mse:7.417843, tv_loss:7.200309, image_mse:0.212280\n",
      "[channel: 0] min:-0.395801, max:-0.145846, mean:-0.271962, std:0.056007\n",
      "[channel: 1] min:0.122719, max:0.524664, mean:0.295048, std:0.110159\n",
      "[channel: 2] min:0.566497, max:0.831577, mean:0.688310, std:0.057555\n",
      "psnr:12.751511\n"
     ]
    },
    {
     "data": {
      "image/png": "[encoded data removed]",
      "text/plain": [
       "<Figure size 432x288 with 1 Axes>"
      ]
     },
     "metadata": {
      "needs_background": "light"
     },
     "output_type": "display_data"
    }
   ],
   "source": [
    "\n",
    "\n",
    "net = nn.ModuleDict()\n",
    "net[\"extractor\"] = Extractor()              \n",
    "frozen_net(net, [\"extractor\"], True)\n",
    "\n",
    "E_checkpoint = torch.load(\"./checkpoint/server_same_extractor.pkl\", map_location=torch.device('cpu'))\n",
    "net[\"extractor\"].load_state_dict(E_checkpoint)\n",
    "\n",
    "x = model_inversion(net, fake_feature, 1e3)\n",
    "psnr = cal_psnr(image, x)\n",
    "\n",
    "channel_info(x)\n",
    "image_mse = torch.pow(image - x, 2).mean()\n",
    "print(\"psnr:%2.6f\"%(psnr))\n",
    "show_image(x)"
   ]
  },
  {
   "cell_type": "code",
   "execution_count": 71,
   "metadata": {
    "colab": {
     "base_uri": "https://localhost:8080/",
     "height": 648
    },
    "executionInfo": {
     "elapsed": 25402,
     "status": "ok",
     "timestamp": 1640951300410,
     "user": {
      "displayName": "吴岳洲",
      "photoUrl": "https://lh3.googleusercontent.com/a/default-user=s64",
      "userId": "10140082103242733864"
     },
     "user_tz": -480
    },
    "id": "qqefrPD5Tkd6",
    "outputId": "21675579-03f8-4c2a-fda0-8cd6dc161dc9"
   },
   "outputs": [
    {
     "name": "stdout",
     "output_type": "stream",
     "text": [
      "epoch:   0, feature_mse:113.710892, tv_loss:0.000000, image_mse:0.491513\n",
      "epoch:1000, feature_mse:110.687336, tv_loss:0.080624, image_mse:0.491536\n",
      "epoch:2000, feature_mse:105.082998, tv_loss:0.378807, image_mse:0.491013\n",
      "epoch:3000, feature_mse:100.043899, tv_loss:0.780922, image_mse:0.490091\n",
      "epoch:4000, feature_mse:95.509017, tv_loss:1.231379, image_mse:0.489037\n",
      "epoch:5000, feature_mse:91.428621, tv_loss:1.702880, image_mse:0.487999\n",
      "epoch:6000, feature_mse:87.754113, tv_loss:2.183078, image_mse:0.487042\n",
      "epoch:7000, feature_mse:84.444722, tv_loss:2.664867, image_mse:0.486186\n",
      "epoch:8000, feature_mse:81.469626, tv_loss:3.133832, image_mse:0.485444\n",
      "epoch:9000, feature_mse:78.801568, tv_loss:3.574368, image_mse:0.484868\n",
      "epoch:10000, feature_mse:76.417469, tv_loss:3.967305, image_mse:0.484511\n",
      "epoch:11000, feature_mse:74.289330, tv_loss:4.299286, image_mse:0.484357\n",
      "epoch:12000, feature_mse:72.383667, tv_loss:4.569332, image_mse:0.484357\n",
      "epoch:13000, feature_mse:70.672023, tv_loss:4.780523, image_mse:0.484468\n",
      "epoch:14000, feature_mse:69.127897, tv_loss:4.941767, image_mse:0.484639\n",
      "epoch:15000, feature_mse:67.722021, tv_loss:5.072811, image_mse:0.484823\n",
      "epoch:16000, feature_mse:66.433898, tv_loss:5.187898, image_mse:0.484992\n",
      "epoch:17000, feature_mse:65.253219, tv_loss:5.290108, image_mse:0.485115\n",
      "[channel: 0] min:-0.116724, max:0.113438, mean:0.020906, std:0.072372\n",
      "[channel: 1] min:-0.117167, max:0.094268, mean:-0.030287, std:0.068446\n",
      "[channel: 2] min:0.008046, max:0.123999, mean:0.106931, std:0.014721\n",
      "psnr:9.168580\n"
     ]
    },
    {
     "data": {
      "image/png": "[encoded data removed]",
      "text/plain": [
       "<Figure size 432x288 with 1 Axes>"
      ]
     },
     "metadata": {
      "needs_background": "light"
     },
     "output_type": "display_data"
    }
   ],
   "source": [
    "\n",
    "\n",
    "net = nn.ModuleDict()\n",
    "net[\"extractor\"] = Extractor()              \n",
    "frozen_net(net, [\"extractor\"], True)\n",
    "\n",
    "E_checkpoint = torch.load(\"./checkpoint/server_iid_extractor.pkl\", map_location=torch.device('cpu'))\n",
    "net[\"extractor\"].load_state_dict(E_checkpoint)\n",
    "\n",
    "x = model_inversion(net, fake_feature, 1e4)\n",
    "psnr = cal_psnr(image, x)\n",
    "\n",
    "channel_info(x)\n",
    "image_mse = torch.pow(image - x, 2).mean()\n",
    "print(\"psnr:%2.6f\"%(psnr))\n",
    "show_image(x)"
   ]
  },
  {
   "cell_type": "code",
   "execution_count": 72,
   "metadata": {
    "colab": {
     "base_uri": "https://localhost:8080/",
     "height": 735
    },
    "executionInfo": {
     "elapsed": 31958,
     "status": "ok",
     "timestamp": 1640951384279,
     "user": {
      "displayName": "吴岳洲",
      "photoUrl": "https://lh3.googleusercontent.com/a/default-user=s64",
      "userId": "10140082103242733864"
     },
     "user_tz": -480
    },
    "id": "VccOl2Z1UnF6",
    "outputId": "50924055-4005-4f11-bd8e-bbe2a4569e8e"
   },
   "outputs": [
    {
     "name": "stdout",
     "output_type": "stream",
     "text": [
      "epoch:   0, feature_mse:153.464081, tv_loss:0.000000, image_mse:0.491513\n",
      "epoch:1000, feature_mse:152.823108, tv_loss:0.000000, image_mse:0.489811\n",
      "epoch:2000, feature_mse:151.479817, tv_loss:0.000000, image_mse:0.486374\n",
      "epoch:3000, feature_mse:150.020518, tv_loss:0.000000, image_mse:0.482948\n",
      "epoch:4000, feature_mse:148.437537, tv_loss:0.000000, image_mse:0.479698\n",
      "epoch:5000, feature_mse:146.745931, tv_loss:0.000000, image_mse:0.476655\n",
      "epoch:6000, feature_mse:144.969583, tv_loss:0.000000, image_mse:0.473874\n",
      "epoch:7000, feature_mse:143.138007, tv_loss:0.000000, image_mse:0.471399\n",
      "epoch:8000, feature_mse:141.280412, tv_loss:0.000000, image_mse:0.469214\n",
      "epoch:9000, feature_mse:139.423316, tv_loss:0.000000, image_mse:0.467272\n",
      "epoch:10000, feature_mse:137.589946, tv_loss:0.000000, image_mse:0.465553\n",
      "epoch:11000, feature_mse:135.797254, tv_loss:0.000000, image_mse:0.464011\n",
      "epoch:12000, feature_mse:134.057534, tv_loss:0.000000, image_mse:0.462626\n",
      "epoch:13000, feature_mse:132.379585, tv_loss:0.000000, image_mse:0.461455\n",
      "epoch:14000, feature_mse:130.769100, tv_loss:0.000000, image_mse:0.460547\n",
      "epoch:15000, feature_mse:129.229394, tv_loss:0.000000, image_mse:0.459925\n",
      "epoch:16000, feature_mse:127.760257, tv_loss:0.000000, image_mse:0.459613\n",
      "epoch:17000, feature_mse:126.356923, tv_loss:0.000000, image_mse:0.459593\n",
      "epoch:18000, feature_mse:125.012829, tv_loss:0.000000, image_mse:0.459843\n",
      "epoch:19000, feature_mse:123.720842, tv_loss:0.000000, image_mse:0.460358\n",
      "epoch:20000, feature_mse:122.472827, tv_loss:0.000000, image_mse:0.461127\n",
      "epoch:21000, feature_mse:121.261459, tv_loss:0.000000, image_mse:0.462143\n",
      "epoch:22000, feature_mse:120.083061, tv_loss:0.000000, image_mse:0.463364\n",
      "[channel: 0] min:-0.193210, max:0.202489, mean:0.017051, std:0.153363\n",
      "[channel: 1] min:-0.198817, max:0.200481, mean:0.015772, std:0.154331\n",
      "[channel: 2] min:-0.200499, max:0.194597, mean:0.014192, std:0.154005\n",
      "psnr:9.396109\n"
     ]
    },
    {
     "data": {
      "image/png": "[encoded data removed]",
      "text/plain": [
       "<Figure size 432x288 with 1 Axes>"
      ]
     },
     "metadata": {
      "needs_background": "light"
     },
     "output_type": "display_data"
    }
   ],
   "source": [
    "\n",
    "\n",
    "net = nn.ModuleDict()\n",
    "net[\"extractor\"] = Extractor()              \n",
    "frozen_net(net, [\"extractor\"], True)\n",
    "\n",
    "E_checkpoint = torch.load(\"./checkpoint/server_niid_extractor.pkl\", map_location=torch.device('cpu'))\n",
    "net[\"extractor\"].load_state_dict(E_checkpoint)\n",
    "\n",
    "x = model_inversion(net, fake_feature, 0)\n",
    "psnr = cal_psnr(image, x)\n",
    "\n",
    "channel_info(x)\n",
    "image_mse = torch.pow(image - x, 2).mean()\n",
    "print(\"psnr:%2.6f\"%(psnr))\n",
    "show_image(x)"
   ]
  },
  {
   "cell_type": "code",
   "execution_count": 73,
   "metadata": {
    "colab": {
     "base_uri": "https://localhost:8080/",
     "height": 822
    },
    "executionInfo": {
     "elapsed": 39383,
     "status": "ok",
     "timestamp": 1640951460198,
     "user": {
      "displayName": "吴岳洲",
      "photoUrl": "https://lh3.googleusercontent.com/a/default-user=s64",
      "userId": "10140082103242733864"
     },
     "user_tz": -480
    },
    "id": "daVakIcWU4Ym",
    "outputId": "9f291f83-298a-420e-eee0-fe468a9a3cc3"
   },
   "outputs": [
    {
     "name": "stdout",
     "output_type": "stream",
     "text": [
      "epoch:   0, feature_mse:77.675270, tv_loss:0.000000, image_mse:0.491513\n",
      "epoch:1000, feature_mse:77.657390, tv_loss:0.000000, image_mse:0.489456\n",
      "epoch:2000, feature_mse:77.621678, tv_loss:0.000000, image_mse:0.485479\n",
      "epoch:3000, feature_mse:77.585995, tv_loss:0.000000, image_mse:0.481700\n",
      "epoch:4000, feature_mse:77.550339, tv_loss:0.000000, image_mse:0.478119\n",
      "epoch:5000, feature_mse:77.514712, tv_loss:0.000000, image_mse:0.474736\n",
      "epoch:6000, feature_mse:77.479114, tv_loss:0.000000, image_mse:0.471549\n",
      "epoch:7000, feature_mse:77.443545, tv_loss:0.000000, image_mse:0.468558\n",
      "epoch:8000, feature_mse:77.408009, tv_loss:0.000000, image_mse:0.465765\n",
      "epoch:9000, feature_mse:77.372507, tv_loss:0.000000, image_mse:0.463169\n",
      "epoch:10000, feature_mse:77.337040, tv_loss:0.000000, image_mse:0.460768\n",
      "epoch:11000, feature_mse:77.301610, tv_loss:0.000000, image_mse:0.458565\n",
      "epoch:12000, feature_mse:77.266220, tv_loss:0.000000, image_mse:0.456562\n",
      "epoch:13000, feature_mse:77.230869, tv_loss:0.000000, image_mse:0.454758\n",
      "epoch:14000, feature_mse:77.195561, tv_loss:0.000000, image_mse:0.453155\n",
      "epoch:15000, feature_mse:77.160298, tv_loss:0.000000, image_mse:0.451750\n",
      "epoch:16000, feature_mse:77.125080, tv_loss:0.000000, image_mse:0.450545\n",
      "epoch:17000, feature_mse:77.089910, tv_loss:0.000000, image_mse:0.449542\n",
      "epoch:18000, feature_mse:77.054789, tv_loss:0.000000, image_mse:0.448738\n",
      "epoch:19000, feature_mse:77.019719, tv_loss:0.000000, image_mse:0.448132\n",
      "epoch:20000, feature_mse:76.984702, tv_loss:0.000000, image_mse:0.447725\n",
      "epoch:21000, feature_mse:76.949737, tv_loss:0.000000, image_mse:0.447516\n",
      "epoch:22000, feature_mse:76.914829, tv_loss:0.000000, image_mse:0.447506\n",
      "epoch:23000, feature_mse:76.879976, tv_loss:0.000000, image_mse:0.447696\n",
      "epoch:24000, feature_mse:76.845181, tv_loss:0.000000, image_mse:0.448084\n",
      "epoch:25000, feature_mse:76.810446, tv_loss:0.000000, image_mse:0.448671\n",
      "epoch:26000, feature_mse:76.775773, tv_loss:0.000000, image_mse:0.449456\n",
      "epoch:27000, feature_mse:76.741164, tv_loss:0.000000, image_mse:0.450440\n",
      "[channel: 0] min:-0.226442, max:0.233659, mean:0.038329, std:0.216108\n",
      "[channel: 1] min:-0.238023, max:0.236457, mean:0.095044, std:0.197672\n",
      "[channel: 2] min:-0.227273, max:0.224084, mean:0.114674, std:0.187526\n",
      "psnr:9.512012\n"
     ]
    },
    {
     "data": {
      "image/png": "[encoded data removed]",
      "text/plain": [
       "<Figure size 432x288 with 1 Axes>"
      ]
     },
     "metadata": {
      "needs_background": "light"
     },
     "output_type": "display_data"
    }
   ],
   "source": [
    "\n",
    "\n",
    "net = nn.ModuleDict()\n",
    "net[\"extractor\"] = Extractor()              \n",
    "frozen_net(net, [\"extractor\"], True)\n",
    "\n",
    "\n",
    "x = model_inversion(net, fake_feature, 0)\n",
    "psnr = cal_psnr(image, x)\n",
    "\n",
    "channel_info(x)\n",
    "image_mse = torch.pow(image - x, 2).mean()\n",
    "print(\"psnr:%2.6f\"%(psnr))\n",
    "show_image(x)"
   ]
  }
 ],
 "metadata": {
  "colab": {
   "authorship_tag": "ABX9TyNszTgMjELuH1/nZCjhUbCE",
   "collapsed_sections": [],
   "mount_file_id": "10erbYPhXEfY3M7cbJMbj3qdrIMuJUZjO",
   "name": "test2.ipynb",
   "provenance": []
  },
  "kernelspec": {
   "display_name": "Python 3 (ipykernel)",
   "language": "python",
   "name": "python3"
  },
  "language_info": {
   "codemirror_mode": {
    "name": "ipython",
    "version": 3
   },
   "file_extension": ".py",
   "mimetype": "text/x-python",
   "name": "python",
   "nbconvert_exporter": "python",
   "pygments_lexer": "ipython3",
   "version": "3.10.9"
  }
 },
 "nbformat": 4,
 "nbformat_minor": 1
}
